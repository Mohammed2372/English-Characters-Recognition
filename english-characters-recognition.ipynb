{
 "cells": [
  {
   "cell_type": "markdown",
   "id": "e6ebe72f",
   "metadata": {
    "papermill": {
     "duration": 0.006527,
     "end_time": "2024-07-30T17:29:41.133809",
     "exception": false,
     "start_time": "2024-07-30T17:29:41.127282",
     "status": "completed"
    },
    "tags": []
   },
   "source": [
    "# import libraries"
   ]
  },
  {
   "cell_type": "code",
   "execution_count": 1,
   "id": "4056db33",
   "metadata": {
    "execution": {
     "iopub.execute_input": "2024-07-30T17:29:41.148080Z",
     "iopub.status.busy": "2024-07-30T17:29:41.147527Z",
     "iopub.status.idle": "2024-07-30T17:29:58.970920Z",
     "shell.execute_reply": "2024-07-30T17:29:58.969743Z"
    },
    "papermill": {
     "duration": 17.833654,
     "end_time": "2024-07-30T17:29:58.973824",
     "exception": false,
     "start_time": "2024-07-30T17:29:41.140170",
     "status": "completed"
    },
    "tags": []
   },
   "outputs": [
    {
     "name": "stderr",
     "output_type": "stream",
     "text": [
      "2024-07-30 17:29:44.680029: E external/local_xla/xla/stream_executor/cuda/cuda_dnn.cc:9261] Unable to register cuDNN factory: Attempting to register factory for plugin cuDNN when one has already been registered\n",
      "2024-07-30 17:29:44.680170: E external/local_xla/xla/stream_executor/cuda/cuda_fft.cc:607] Unable to register cuFFT factory: Attempting to register factory for plugin cuFFT when one has already been registered\n",
      "2024-07-30 17:29:44.857347: E external/local_xla/xla/stream_executor/cuda/cuda_blas.cc:1515] Unable to register cuBLAS factory: Attempting to register factory for plugin cuBLAS when one has already been registered\n"
     ]
    }
   ],
   "source": [
    "import joblib\n",
    "import numpy as np\n",
    "import pandas as pd\n",
    "import tensorflow as tf\n",
    "from tensorflow.keras.optimizers import Adam\n",
    "from tensorflow.keras.models import Sequential\n",
    "from sklearn.preprocessing import LabelEncoder\n",
    "from sklearn.model_selection import train_test_split\n",
    "from tensorflow.keras.preprocessing.image import ImageDataGenerator\n",
    "from tensorflow.keras.preprocessing.image import load_img, img_to_array\n",
    "from tensorflow.keras.callbacks import EarlyStopping, ModelCheckpoint, ReduceLROnPlateau\n",
    "from tensorflow.keras.layers import Conv2D, MaxPooling2D, Flatten, Dense, Dropout, BatchNormalization"
   ]
  },
  {
   "cell_type": "markdown",
   "id": "524a6237",
   "metadata": {
    "papermill": {
     "duration": 0.005883,
     "end_time": "2024-07-30T17:29:58.986029",
     "exception": false,
     "start_time": "2024-07-30T17:29:58.980146",
     "status": "completed"
    },
    "tags": []
   },
   "source": [
    "# Data Overview"
   ]
  },
  {
   "cell_type": "code",
   "execution_count": 2,
   "id": "227815c4",
   "metadata": {
    "execution": {
     "iopub.execute_input": "2024-07-30T17:29:58.999939Z",
     "iopub.status.busy": "2024-07-30T17:29:58.999245Z",
     "iopub.status.idle": "2024-07-30T17:29:59.029125Z",
     "shell.execute_reply": "2024-07-30T17:29:59.027878Z"
    },
    "papermill": {
     "duration": 0.040715,
     "end_time": "2024-07-30T17:29:59.032681",
     "exception": false,
     "start_time": "2024-07-30T17:29:58.991966",
     "status": "completed"
    },
    "tags": []
   },
   "outputs": [],
   "source": [
    "df = pd.read_csv('/kaggle/input/english-handwritten-characters-dataset/english.csv')"
   ]
  },
  {
   "cell_type": "code",
   "execution_count": 3,
   "id": "39add4d4",
   "metadata": {
    "execution": {
     "iopub.execute_input": "2024-07-30T17:29:59.048028Z",
     "iopub.status.busy": "2024-07-30T17:29:59.047584Z",
     "iopub.status.idle": "2024-07-30T17:29:59.072524Z",
     "shell.execute_reply": "2024-07-30T17:29:59.070903Z"
    },
    "papermill": {
     "duration": 0.036045,
     "end_time": "2024-07-30T17:29:59.075696",
     "exception": false,
     "start_time": "2024-07-30T17:29:59.039651",
     "status": "completed"
    },
    "tags": []
   },
   "outputs": [
    {
     "data": {
      "text/html": [
       "<div>\n",
       "<style scoped>\n",
       "    .dataframe tbody tr th:only-of-type {\n",
       "        vertical-align: middle;\n",
       "    }\n",
       "\n",
       "    .dataframe tbody tr th {\n",
       "        vertical-align: top;\n",
       "    }\n",
       "\n",
       "    .dataframe thead th {\n",
       "        text-align: right;\n",
       "    }\n",
       "</style>\n",
       "<table border=\"1\" class=\"dataframe\">\n",
       "  <thead>\n",
       "    <tr style=\"text-align: right;\">\n",
       "      <th></th>\n",
       "      <th>image</th>\n",
       "      <th>label</th>\n",
       "    </tr>\n",
       "  </thead>\n",
       "  <tbody>\n",
       "    <tr>\n",
       "      <th>0</th>\n",
       "      <td>Img/img001-001.png</td>\n",
       "      <td>0</td>\n",
       "    </tr>\n",
       "    <tr>\n",
       "      <th>1</th>\n",
       "      <td>Img/img001-002.png</td>\n",
       "      <td>0</td>\n",
       "    </tr>\n",
       "    <tr>\n",
       "      <th>2</th>\n",
       "      <td>Img/img001-003.png</td>\n",
       "      <td>0</td>\n",
       "    </tr>\n",
       "    <tr>\n",
       "      <th>3</th>\n",
       "      <td>Img/img001-004.png</td>\n",
       "      <td>0</td>\n",
       "    </tr>\n",
       "    <tr>\n",
       "      <th>4</th>\n",
       "      <td>Img/img001-005.png</td>\n",
       "      <td>0</td>\n",
       "    </tr>\n",
       "    <tr>\n",
       "      <th>5</th>\n",
       "      <td>Img/img001-006.png</td>\n",
       "      <td>0</td>\n",
       "    </tr>\n",
       "    <tr>\n",
       "      <th>6</th>\n",
       "      <td>Img/img001-007.png</td>\n",
       "      <td>0</td>\n",
       "    </tr>\n",
       "    <tr>\n",
       "      <th>7</th>\n",
       "      <td>Img/img001-008.png</td>\n",
       "      <td>0</td>\n",
       "    </tr>\n",
       "    <tr>\n",
       "      <th>8</th>\n",
       "      <td>Img/img001-009.png</td>\n",
       "      <td>0</td>\n",
       "    </tr>\n",
       "    <tr>\n",
       "      <th>9</th>\n",
       "      <td>Img/img001-010.png</td>\n",
       "      <td>0</td>\n",
       "    </tr>\n",
       "  </tbody>\n",
       "</table>\n",
       "</div>"
      ],
      "text/plain": [
       "                image label\n",
       "0  Img/img001-001.png     0\n",
       "1  Img/img001-002.png     0\n",
       "2  Img/img001-003.png     0\n",
       "3  Img/img001-004.png     0\n",
       "4  Img/img001-005.png     0\n",
       "5  Img/img001-006.png     0\n",
       "6  Img/img001-007.png     0\n",
       "7  Img/img001-008.png     0\n",
       "8  Img/img001-009.png     0\n",
       "9  Img/img001-010.png     0"
      ]
     },
     "execution_count": 3,
     "metadata": {},
     "output_type": "execute_result"
    }
   ],
   "source": [
    "df.head(10)"
   ]
  },
  {
   "cell_type": "markdown",
   "id": "01b60a39",
   "metadata": {
    "papermill": {
     "duration": 0.006515,
     "end_time": "2024-07-30T17:29:59.089925",
     "exception": false,
     "start_time": "2024-07-30T17:29:59.083410",
     "status": "completed"
    },
    "tags": []
   },
   "source": [
    "it contain two columns:\n",
    "- image -> path for the images \n",
    "- label -> the digit or character of the images"
   ]
  },
  {
   "cell_type": "code",
   "execution_count": 4,
   "id": "e4230a3d",
   "metadata": {
    "execution": {
     "iopub.execute_input": "2024-07-30T17:29:59.105862Z",
     "iopub.status.busy": "2024-07-30T17:29:59.105430Z",
     "iopub.status.idle": "2024-07-30T17:29:59.113485Z",
     "shell.execute_reply": "2024-07-30T17:29:59.111976Z"
    },
    "papermill": {
     "duration": 0.018486,
     "end_time": "2024-07-30T17:29:59.116061",
     "exception": false,
     "start_time": "2024-07-30T17:29:59.097575",
     "status": "completed"
    },
    "tags": []
   },
   "outputs": [
    {
     "data": {
      "text/plain": [
       "(3410, 2)"
      ]
     },
     "execution_count": 4,
     "metadata": {},
     "output_type": "execute_result"
    }
   ],
   "source": [
    "df.shape"
   ]
  },
  {
   "cell_type": "markdown",
   "id": "ddfef0d7",
   "metadata": {
    "papermill": {
     "duration": 0.007612,
     "end_time": "2024-07-30T17:29:59.130158",
     "exception": false,
     "start_time": "2024-07-30T17:29:59.122546",
     "status": "completed"
    },
    "tags": []
   },
   "source": [
    "the dataset contains **``55 images``** for every character or digit"
   ]
  },
  {
   "cell_type": "markdown",
   "id": "11945e42",
   "metadata": {
    "papermill": {
     "duration": 0.007148,
     "end_time": "2024-07-30T17:29:59.143957",
     "exception": false,
     "start_time": "2024-07-30T17:29:59.136809",
     "status": "completed"
    },
    "tags": []
   },
   "source": [
    "# load and preprocess images"
   ]
  },
  {
   "cell_type": "code",
   "execution_count": 5,
   "id": "ab28f413",
   "metadata": {
    "execution": {
     "iopub.execute_input": "2024-07-30T17:29:59.158893Z",
     "iopub.status.busy": "2024-07-30T17:29:59.157926Z",
     "iopub.status.idle": "2024-07-30T17:29:59.163257Z",
     "shell.execute_reply": "2024-07-30T17:29:59.161774Z"
    },
    "papermill": {
     "duration": 0.016756,
     "end_time": "2024-07-30T17:29:59.167038",
     "exception": false,
     "start_time": "2024-07-30T17:29:59.150282",
     "status": "completed"
    },
    "tags": []
   },
   "outputs": [],
   "source": [
    "img_size = (32, 32)"
   ]
  },
  {
   "cell_type": "code",
   "execution_count": 6,
   "id": "c8b032b3",
   "metadata": {
    "execution": {
     "iopub.execute_input": "2024-07-30T17:29:59.183877Z",
     "iopub.status.busy": "2024-07-30T17:29:59.183442Z",
     "iopub.status.idle": "2024-07-30T17:29:59.189282Z",
     "shell.execute_reply": "2024-07-30T17:29:59.188185Z"
    },
    "papermill": {
     "duration": 0.0174,
     "end_time": "2024-07-30T17:29:59.191979",
     "exception": false,
     "start_time": "2024-07-30T17:29:59.174579",
     "status": "completed"
    },
    "tags": []
   },
   "outputs": [],
   "source": [
    "def load_and_preprocess_image(image_path):\n",
    "    image_path = '/kaggle/input/english-handwritten-characters-dataset/' + image_path\n",
    "    img = load_img(image_path, target_size=img_size, color_mode='grayscale')\n",
    "    return img_to_array(img) / 255.0 "
   ]
  },
  {
   "cell_type": "code",
   "execution_count": 7,
   "id": "844e6cc4",
   "metadata": {
    "execution": {
     "iopub.execute_input": "2024-07-30T17:29:59.208558Z",
     "iopub.status.busy": "2024-07-30T17:29:59.208156Z",
     "iopub.status.idle": "2024-07-30T17:29:59.214500Z",
     "shell.execute_reply": "2024-07-30T17:29:59.213003Z"
    },
    "papermill": {
     "duration": 0.019079,
     "end_time": "2024-07-30T17:29:59.217422",
     "exception": false,
     "start_time": "2024-07-30T17:29:59.198343",
     "status": "completed"
    },
    "tags": []
   },
   "outputs": [],
   "source": [
    "image_paths = df['image'].values\n",
    "labels = df['label'].values"
   ]
  },
  {
   "cell_type": "code",
   "execution_count": 8,
   "id": "36b4983f",
   "metadata": {
    "execution": {
     "iopub.execute_input": "2024-07-30T17:29:59.233908Z",
     "iopub.status.busy": "2024-07-30T17:29:59.233437Z",
     "iopub.status.idle": "2024-07-30T17:29:59.240014Z",
     "shell.execute_reply": "2024-07-30T17:29:59.238723Z"
    },
    "papermill": {
     "duration": 0.0183,
     "end_time": "2024-07-30T17:29:59.243284",
     "exception": false,
     "start_time": "2024-07-30T17:29:59.224984",
     "status": "completed"
    },
    "tags": []
   },
   "outputs": [],
   "source": [
    "# Encode character labels to integers\n",
    "label_encoder = LabelEncoder()\n",
    "labels_encoded = label_encoder.fit_transform(labels)"
   ]
  },
  {
   "cell_type": "markdown",
   "id": "2173f343",
   "metadata": {
    "papermill": {
     "duration": 0.006245,
     "end_time": "2024-07-30T17:29:59.256895",
     "exception": false,
     "start_time": "2024-07-30T17:29:59.250650",
     "status": "completed"
    },
    "tags": []
   },
   "source": [
    "# preprocess images"
   ]
  },
  {
   "cell_type": "code",
   "execution_count": 9,
   "id": "49c15147",
   "metadata": {
    "execution": {
     "iopub.execute_input": "2024-07-30T17:29:59.275268Z",
     "iopub.status.busy": "2024-07-30T17:29:59.274138Z",
     "iopub.status.idle": "2024-07-30T17:31:31.071681Z",
     "shell.execute_reply": "2024-07-30T17:31:31.070087Z"
    },
    "papermill": {
     "duration": 91.810575,
     "end_time": "2024-07-30T17:31:31.074600",
     "exception": false,
     "start_time": "2024-07-30T17:29:59.264025",
     "status": "completed"
    },
    "tags": []
   },
   "outputs": [],
   "source": [
    "imgs = np.array([load_and_preprocess_image(img_path) for img_path in image_paths])"
   ]
  },
  {
   "cell_type": "code",
   "execution_count": 10,
   "id": "bad922ca",
   "metadata": {
    "execution": {
     "iopub.execute_input": "2024-07-30T17:31:31.090028Z",
     "iopub.status.busy": "2024-07-30T17:31:31.089594Z",
     "iopub.status.idle": "2024-07-30T17:31:31.096652Z",
     "shell.execute_reply": "2024-07-30T17:31:31.095299Z"
    },
    "papermill": {
     "duration": 0.017464,
     "end_time": "2024-07-30T17:31:31.099274",
     "exception": false,
     "start_time": "2024-07-30T17:31:31.081810",
     "status": "completed"
    },
    "tags": []
   },
   "outputs": [],
   "source": [
    "num_label = len(np.unique(labels_encoded))\n",
    "one_hot_labels = np.eye(num_label)[labels_encoded]"
   ]
  },
  {
   "cell_type": "markdown",
   "id": "0c96954b",
   "metadata": {
    "papermill": {
     "duration": 0.006044,
     "end_time": "2024-07-30T17:31:31.111754",
     "exception": false,
     "start_time": "2024-07-30T17:31:31.105710",
     "status": "completed"
    },
    "tags": []
   },
   "source": [
    "# Split data"
   ]
  },
  {
   "cell_type": "code",
   "execution_count": 11,
   "id": "28bc7614",
   "metadata": {
    "execution": {
     "iopub.execute_input": "2024-07-30T17:31:31.130046Z",
     "iopub.status.busy": "2024-07-30T17:31:31.129224Z",
     "iopub.status.idle": "2024-07-30T17:31:31.147651Z",
     "shell.execute_reply": "2024-07-30T17:31:31.146189Z"
    },
    "papermill": {
     "duration": 0.030492,
     "end_time": "2024-07-30T17:31:31.150689",
     "exception": false,
     "start_time": "2024-07-30T17:31:31.120197",
     "status": "completed"
    },
    "tags": []
   },
   "outputs": [],
   "source": [
    "X_train, X_val, y_train, y_val = train_test_split(imgs, one_hot_labels, test_size=0.1, random_state=42)"
   ]
  },
  {
   "cell_type": "markdown",
   "id": "25ea9b4e",
   "metadata": {
    "papermill": {
     "duration": 0.006609,
     "end_time": "2024-07-30T17:31:31.164134",
     "exception": false,
     "start_time": "2024-07-30T17:31:31.157525",
     "status": "completed"
    },
    "tags": []
   },
   "source": [
    "# Data Augmentation"
   ]
  },
  {
   "cell_type": "code",
   "execution_count": 12,
   "id": "76f821dc",
   "metadata": {
    "execution": {
     "iopub.execute_input": "2024-07-30T17:31:31.178698Z",
     "iopub.status.busy": "2024-07-30T17:31:31.178270Z",
     "iopub.status.idle": "2024-07-30T17:31:31.190839Z",
     "shell.execute_reply": "2024-07-30T17:31:31.189720Z"
    },
    "papermill": {
     "duration": 0.022843,
     "end_time": "2024-07-30T17:31:31.193536",
     "exception": false,
     "start_time": "2024-07-30T17:31:31.170693",
     "status": "completed"
    },
    "tags": []
   },
   "outputs": [],
   "source": [
    "datagen = ImageDataGenerator(\n",
    "    rotation_range=10,\n",
    "    width_shift_range=0.1,\n",
    "    height_shift_range=0.1,\n",
    "    zoom_range=0.1\n",
    ")\n",
    "datagen.fit(X_train)"
   ]
  },
  {
   "cell_type": "markdown",
   "id": "57c21954",
   "metadata": {
    "papermill": {
     "duration": 0.006235,
     "end_time": "2024-07-30T17:31:31.206546",
     "exception": false,
     "start_time": "2024-07-30T17:31:31.200311",
     "status": "completed"
    },
    "tags": []
   },
   "source": [
    "# Modeling"
   ]
  },
  {
   "cell_type": "code",
   "execution_count": 13,
   "id": "dd11e81c",
   "metadata": {
    "execution": {
     "iopub.execute_input": "2024-07-30T17:31:31.220996Z",
     "iopub.status.busy": "2024-07-30T17:31:31.220550Z",
     "iopub.status.idle": "2024-07-30T17:31:31.382939Z",
     "shell.execute_reply": "2024-07-30T17:31:31.381615Z"
    },
    "papermill": {
     "duration": 0.172967,
     "end_time": "2024-07-30T17:31:31.385746",
     "exception": false,
     "start_time": "2024-07-30T17:31:31.212779",
     "status": "completed"
    },
    "tags": []
   },
   "outputs": [
    {
     "name": "stderr",
     "output_type": "stream",
     "text": [
      "/opt/conda/lib/python3.10/site-packages/keras/src/layers/convolutional/base_conv.py:107: UserWarning: Do not pass an `input_shape`/`input_dim` argument to a layer. When using Sequential models, prefer using an `Input(shape)` object as the first layer in the model instead.\n",
      "  super().__init__(activity_regularizer=activity_regularizer, **kwargs)\n"
     ]
    }
   ],
   "source": [
    "# Define the model\n",
    "model = Sequential([\n",
    "    Conv2D(32, (3, 3), activation='relu', input_shape=(32, 32, 1)),\n",
    "    BatchNormalization(),\n",
    "    MaxPooling2D((2, 2)),\n",
    "    Conv2D(64, (3, 3), activation='relu'),\n",
    "    BatchNormalization(),\n",
    "    MaxPooling2D((2, 2)),\n",
    "    Conv2D(128, (3, 3), activation='relu'),\n",
    "    BatchNormalization(),\n",
    "    MaxPooling2D((2, 2)),\n",
    "    Flatten(),\n",
    "    Dense(256, activation='relu'),\n",
    "    Dropout(0.5),\n",
    "    Dense(num_label, activation='softmax')\n",
    "])"
   ]
  },
  {
   "cell_type": "code",
   "execution_count": 14,
   "id": "45d84a38",
   "metadata": {
    "execution": {
     "iopub.execute_input": "2024-07-30T17:31:31.401935Z",
     "iopub.status.busy": "2024-07-30T17:31:31.401520Z",
     "iopub.status.idle": "2024-07-30T17:31:31.421036Z",
     "shell.execute_reply": "2024-07-30T17:31:31.419220Z"
    },
    "papermill": {
     "duration": 0.032066,
     "end_time": "2024-07-30T17:31:31.424639",
     "exception": false,
     "start_time": "2024-07-30T17:31:31.392573",
     "status": "completed"
    },
    "tags": []
   },
   "outputs": [],
   "source": [
    "model.compile(optimizer=Adam(learning_rate=0.001), loss='categorical_crossentropy', metrics=['accuracy'])"
   ]
  },
  {
   "cell_type": "code",
   "execution_count": 15,
   "id": "da23b10c",
   "metadata": {
    "execution": {
     "iopub.execute_input": "2024-07-30T17:31:31.440877Z",
     "iopub.status.busy": "2024-07-30T17:31:31.440402Z",
     "iopub.status.idle": "2024-07-30T17:31:31.447254Z",
     "shell.execute_reply": "2024-07-30T17:31:31.445949Z"
    },
    "papermill": {
     "duration": 0.017805,
     "end_time": "2024-07-30T17:31:31.449808",
     "exception": false,
     "start_time": "2024-07-30T17:31:31.432003",
     "status": "completed"
    },
    "tags": []
   },
   "outputs": [],
   "source": [
    "# Callbacks\n",
    "early_stopping = EarlyStopping(monitor='val_loss', patience=5, restore_best_weights=True)\n",
    "model_checkpoint = ModelCheckpoint('best_model.keras', save_best_only=True, monitor='val_loss')\n",
    "reduce_lr = ReduceLROnPlateau(monitor='val_loss', factor=0.2, patience=3, min_lr=0.00001)"
   ]
  },
  {
   "cell_type": "code",
   "execution_count": 16,
   "id": "ae14f41e",
   "metadata": {
    "execution": {
     "iopub.execute_input": "2024-07-30T17:31:31.464302Z",
     "iopub.status.busy": "2024-07-30T17:31:31.463905Z",
     "iopub.status.idle": "2024-07-30T17:33:37.813530Z",
     "shell.execute_reply": "2024-07-30T17:33:37.812193Z"
    },
    "papermill": {
     "duration": 126.360351,
     "end_time": "2024-07-30T17:33:37.816548",
     "exception": false,
     "start_time": "2024-07-30T17:31:31.456197",
     "status": "completed"
    },
    "tags": []
   },
   "outputs": [
    {
     "name": "stdout",
     "output_type": "stream",
     "text": [
      "Epoch 1/50\n"
     ]
    },
    {
     "name": "stderr",
     "output_type": "stream",
     "text": [
      "/opt/conda/lib/python3.10/site-packages/keras/src/trainers/data_adapters/py_dataset_adapter.py:121: UserWarning: Your `PyDataset` class should call `super().__init__(**kwargs)` in its constructor. `**kwargs` can include `workers`, `use_multiprocessing`, `max_queue_size`. Do not pass these arguments to `fit()`, as they will be ignored.\n",
      "  self._warn_if_super_not_called()\n"
     ]
    },
    {
     "name": "stdout",
     "output_type": "stream",
     "text": [
      "\u001b[1m96/96\u001b[0m \u001b[32m━━━━━━━━━━━━━━━━━━━━\u001b[0m\u001b[37m\u001b[0m \u001b[1m8s\u001b[0m 45ms/step - accuracy: 0.0353 - loss: 4.5299 - val_accuracy: 0.0059 - val_loss: 5.4034 - learning_rate: 0.0010\n",
      "Epoch 2/50\n",
      "\u001b[1m96/96\u001b[0m \u001b[32m━━━━━━━━━━━━━━━━━━━━\u001b[0m\u001b[37m\u001b[0m \u001b[1m4s\u001b[0m 36ms/step - accuracy: 0.1058 - loss: 3.6744 - val_accuracy: 0.0176 - val_loss: 6.0584 - learning_rate: 0.0010\n",
      "Epoch 3/50\n",
      "\u001b[1m96/96\u001b[0m \u001b[32m━━━━━━━━━━━━━━━━━━━━\u001b[0m\u001b[37m\u001b[0m \u001b[1m4s\u001b[0m 37ms/step - accuracy: 0.2097 - loss: 3.0958 - val_accuracy: 0.0469 - val_loss: 5.3323 - learning_rate: 0.0010\n",
      "Epoch 4/50\n",
      "\u001b[1m96/96\u001b[0m \u001b[32m━━━━━━━━━━━━━━━━━━━━\u001b[0m\u001b[37m\u001b[0m \u001b[1m4s\u001b[0m 39ms/step - accuracy: 0.3092 - loss: 2.5443 - val_accuracy: 0.1026 - val_loss: 3.4231 - learning_rate: 0.0010\n",
      "Epoch 5/50\n",
      "\u001b[1m96/96\u001b[0m \u001b[32m━━━━━━━━━━━━━━━━━━━━\u001b[0m\u001b[37m\u001b[0m \u001b[1m4s\u001b[0m 36ms/step - accuracy: 0.3760 - loss: 2.2207 - val_accuracy: 0.3284 - val_loss: 2.3569 - learning_rate: 0.0010\n",
      "Epoch 6/50\n",
      "\u001b[1m96/96\u001b[0m \u001b[32m━━━━━━━━━━━━━━━━━━━━\u001b[0m\u001b[37m\u001b[0m \u001b[1m4s\u001b[0m 38ms/step - accuracy: 0.4523 - loss: 1.8904 - val_accuracy: 0.6364 - val_loss: 1.3241 - learning_rate: 0.0010\n",
      "Epoch 7/50\n",
      "\u001b[1m96/96\u001b[0m \u001b[32m━━━━━━━━━━━━━━━━━━━━\u001b[0m\u001b[37m\u001b[0m \u001b[1m4s\u001b[0m 41ms/step - accuracy: 0.5301 - loss: 1.6224 - val_accuracy: 0.6129 - val_loss: 1.2409 - learning_rate: 0.0010\n",
      "Epoch 8/50\n",
      "\u001b[1m96/96\u001b[0m \u001b[32m━━━━━━━━━━━━━━━━━━━━\u001b[0m\u001b[37m\u001b[0m \u001b[1m4s\u001b[0m 37ms/step - accuracy: 0.5605 - loss: 1.4737 - val_accuracy: 0.6158 - val_loss: 1.3495 - learning_rate: 0.0010\n",
      "Epoch 9/50\n",
      "\u001b[1m96/96\u001b[0m \u001b[32m━━━━━━━━━━━━━━━━━━━━\u001b[0m\u001b[37m\u001b[0m \u001b[1m4s\u001b[0m 38ms/step - accuracy: 0.5781 - loss: 1.3628 - val_accuracy: 0.6833 - val_loss: 1.0442 - learning_rate: 0.0010\n",
      "Epoch 10/50\n",
      "\u001b[1m96/96\u001b[0m \u001b[32m━━━━━━━━━━━━━━━━━━━━\u001b[0m\u001b[37m\u001b[0m \u001b[1m4s\u001b[0m 41ms/step - accuracy: 0.5894 - loss: 1.2832 - val_accuracy: 0.5484 - val_loss: 1.4841 - learning_rate: 0.0010\n",
      "Epoch 11/50\n",
      "\u001b[1m96/96\u001b[0m \u001b[32m━━━━━━━━━━━━━━━━━━━━\u001b[0m\u001b[37m\u001b[0m \u001b[1m4s\u001b[0m 38ms/step - accuracy: 0.6430 - loss: 1.1604 - val_accuracy: 0.7009 - val_loss: 0.8963 - learning_rate: 0.0010\n",
      "Epoch 12/50\n",
      "\u001b[1m96/96\u001b[0m \u001b[32m━━━━━━━━━━━━━━━━━━━━\u001b[0m\u001b[37m\u001b[0m \u001b[1m4s\u001b[0m 36ms/step - accuracy: 0.6385 - loss: 1.1501 - val_accuracy: 0.6364 - val_loss: 1.1625 - learning_rate: 0.0010\n",
      "Epoch 13/50\n",
      "\u001b[1m96/96\u001b[0m \u001b[32m━━━━━━━━━━━━━━━━━━━━\u001b[0m\u001b[37m\u001b[0m \u001b[1m4s\u001b[0m 36ms/step - accuracy: 0.6642 - loss: 1.0493 - val_accuracy: 0.7097 - val_loss: 0.8815 - learning_rate: 0.0010\n",
      "Epoch 14/50\n",
      "\u001b[1m96/96\u001b[0m \u001b[32m━━━━━━━━━━━━━━━━━━━━\u001b[0m\u001b[37m\u001b[0m \u001b[1m4s\u001b[0m 37ms/step - accuracy: 0.6884 - loss: 0.9725 - val_accuracy: 0.7038 - val_loss: 0.8508 - learning_rate: 0.0010\n",
      "Epoch 15/50\n",
      "\u001b[1m96/96\u001b[0m \u001b[32m━━━━━━━━━━━━━━━━━━━━\u001b[0m\u001b[37m\u001b[0m \u001b[1m3s\u001b[0m 35ms/step - accuracy: 0.7054 - loss: 0.9136 - val_accuracy: 0.6422 - val_loss: 1.2397 - learning_rate: 0.0010\n",
      "Epoch 16/50\n",
      "\u001b[1m96/96\u001b[0m \u001b[32m━━━━━━━━━━━━━━━━━━━━\u001b[0m\u001b[37m\u001b[0m \u001b[1m3s\u001b[0m 35ms/step - accuracy: 0.7250 - loss: 0.8523 - val_accuracy: 0.6804 - val_loss: 1.1044 - learning_rate: 0.0010\n",
      "Epoch 17/50\n",
      "\u001b[1m96/96\u001b[0m \u001b[32m━━━━━━━━━━━━━━━━━━━━\u001b[0m\u001b[37m\u001b[0m \u001b[1m4s\u001b[0m 36ms/step - accuracy: 0.7136 - loss: 0.8631 - val_accuracy: 0.5455 - val_loss: 1.7367 - learning_rate: 0.0010\n",
      "Epoch 18/50\n",
      "\u001b[1m96/96\u001b[0m \u001b[32m━━━━━━━━━━━━━━━━━━━━\u001b[0m\u001b[37m\u001b[0m \u001b[1m6s\u001b[0m 41ms/step - accuracy: 0.7274 - loss: 0.7886 - val_accuracy: 0.8152 - val_loss: 0.5986 - learning_rate: 2.0000e-04\n",
      "Epoch 19/50\n",
      "\u001b[1m96/96\u001b[0m \u001b[32m━━━━━━━━━━━━━━━━━━━━\u001b[0m\u001b[37m\u001b[0m \u001b[1m4s\u001b[0m 36ms/step - accuracy: 0.7639 - loss: 0.6887 - val_accuracy: 0.8065 - val_loss: 0.5699 - learning_rate: 2.0000e-04\n",
      "Epoch 20/50\n",
      "\u001b[1m96/96\u001b[0m \u001b[32m━━━━━━━━━━━━━━━━━━━━\u001b[0m\u001b[37m\u001b[0m \u001b[1m3s\u001b[0m 34ms/step - accuracy: 0.7564 - loss: 0.7167 - val_accuracy: 0.8182 - val_loss: 0.5871 - learning_rate: 2.0000e-04\n",
      "Epoch 21/50\n",
      "\u001b[1m96/96\u001b[0m \u001b[32m━━━━━━━━━━━━━━━━━━━━\u001b[0m\u001b[37m\u001b[0m \u001b[1m5s\u001b[0m 35ms/step - accuracy: 0.7615 - loss: 0.6893 - val_accuracy: 0.8211 - val_loss: 0.5620 - learning_rate: 2.0000e-04\n",
      "Epoch 22/50\n",
      "\u001b[1m96/96\u001b[0m \u001b[32m━━━━━━━━━━━━━━━━━━━━\u001b[0m\u001b[37m\u001b[0m \u001b[1m4s\u001b[0m 38ms/step - accuracy: 0.7629 - loss: 0.6728 - val_accuracy: 0.8240 - val_loss: 0.5479 - learning_rate: 2.0000e-04\n",
      "Epoch 23/50\n",
      "\u001b[1m96/96\u001b[0m \u001b[32m━━━━━━━━━━━━━━━━━━━━\u001b[0m\u001b[37m\u001b[0m \u001b[1m4s\u001b[0m 37ms/step - accuracy: 0.7848 - loss: 0.6103 - val_accuracy: 0.8094 - val_loss: 0.5707 - learning_rate: 2.0000e-04\n",
      "Epoch 24/50\n",
      "\u001b[1m96/96\u001b[0m \u001b[32m━━━━━━━━━━━━━━━━━━━━\u001b[0m\u001b[37m\u001b[0m \u001b[1m4s\u001b[0m 35ms/step - accuracy: 0.7670 - loss: 0.6744 - val_accuracy: 0.8065 - val_loss: 0.5575 - learning_rate: 2.0000e-04\n",
      "Epoch 25/50\n",
      "\u001b[1m96/96\u001b[0m \u001b[32m━━━━━━━━━━━━━━━━━━━━\u001b[0m\u001b[37m\u001b[0m \u001b[1m4s\u001b[0m 36ms/step - accuracy: 0.7942 - loss: 0.6283 - val_accuracy: 0.7918 - val_loss: 0.5715 - learning_rate: 2.0000e-04\n",
      "Epoch 26/50\n",
      "\u001b[1m96/96\u001b[0m \u001b[32m━━━━━━━━━━━━━━━━━━━━\u001b[0m\u001b[37m\u001b[0m \u001b[1m4s\u001b[0m 38ms/step - accuracy: 0.7856 - loss: 0.6303 - val_accuracy: 0.8065 - val_loss: 0.5446 - learning_rate: 4.0000e-05\n",
      "Epoch 27/50\n",
      "\u001b[1m96/96\u001b[0m \u001b[32m━━━━━━━━━━━━━━━━━━━━\u001b[0m\u001b[37m\u001b[0m \u001b[1m5s\u001b[0m 39ms/step - accuracy: 0.7920 - loss: 0.6103 - val_accuracy: 0.8035 - val_loss: 0.5397 - learning_rate: 4.0000e-05\n",
      "Epoch 28/50\n",
      "\u001b[1m96/96\u001b[0m \u001b[32m━━━━━━━━━━━━━━━━━━━━\u001b[0m\u001b[37m\u001b[0m \u001b[1m4s\u001b[0m 38ms/step - accuracy: 0.7994 - loss: 0.5622 - val_accuracy: 0.8123 - val_loss: 0.5417 - learning_rate: 4.0000e-05\n",
      "Epoch 29/50\n",
      "\u001b[1m96/96\u001b[0m \u001b[32m━━━━━━━━━━━━━━━━━━━━\u001b[0m\u001b[37m\u001b[0m \u001b[1m4s\u001b[0m 37ms/step - accuracy: 0.8031 - loss: 0.5766 - val_accuracy: 0.8035 - val_loss: 0.5440 - learning_rate: 4.0000e-05\n",
      "Epoch 30/50\n",
      "\u001b[1m96/96\u001b[0m \u001b[32m━━━━━━━━━━━━━━━━━━━━\u001b[0m\u001b[37m\u001b[0m \u001b[1m4s\u001b[0m 37ms/step - accuracy: 0.8128 - loss: 0.5758 - val_accuracy: 0.8123 - val_loss: 0.5443 - learning_rate: 4.0000e-05\n",
      "Epoch 31/50\n",
      "\u001b[1m96/96\u001b[0m \u001b[32m━━━━━━━━━━━━━━━━━━━━\u001b[0m\u001b[37m\u001b[0m \u001b[1m4s\u001b[0m 37ms/step - accuracy: 0.8035 - loss: 0.5862 - val_accuracy: 0.8094 - val_loss: 0.5456 - learning_rate: 1.0000e-05\n",
      "Epoch 32/50\n",
      "\u001b[1m96/96\u001b[0m \u001b[32m━━━━━━━━━━━━━━━━━━━━\u001b[0m\u001b[37m\u001b[0m \u001b[1m4s\u001b[0m 36ms/step - accuracy: 0.7796 - loss: 0.6310 - val_accuracy: 0.7977 - val_loss: 0.5485 - learning_rate: 1.0000e-05\n"
     ]
    }
   ],
   "source": [
    "# Train the model with data augmentation\n",
    "history = model.fit(\n",
    "    datagen.flow(X_train, y_train, batch_size=32),\n",
    "    epochs=50,\n",
    "    validation_data=(X_val, y_val),\n",
    "    callbacks=[early_stopping, model_checkpoint, reduce_lr]\n",
    ")"
   ]
  },
  {
   "cell_type": "code",
   "execution_count": 17,
   "id": "d04c605a",
   "metadata": {
    "execution": {
     "iopub.execute_input": "2024-07-30T17:33:38.117005Z",
     "iopub.status.busy": "2024-07-30T17:33:38.116379Z",
     "iopub.status.idle": "2024-07-30T17:33:38.316473Z",
     "shell.execute_reply": "2024-07-30T17:33:38.314488Z"
    },
    "papermill": {
     "duration": 0.317708,
     "end_time": "2024-07-30T17:33:38.319509",
     "exception": false,
     "start_time": "2024-07-30T17:33:38.001801",
     "status": "completed"
    },
    "tags": []
   },
   "outputs": [
    {
     "name": "stdout",
     "output_type": "stream",
     "text": [
      "\u001b[1m11/11\u001b[0m \u001b[32m━━━━━━━━━━━━━━━━━━━━\u001b[0m\u001b[37m\u001b[0m \u001b[1m0s\u001b[0m 10ms/step - accuracy: 0.7626 - loss: 0.6092\n",
      "Validation Loss: 0.5396873950958252\n",
      "Validation Accuracy: 0.803519070148468\n"
     ]
    }
   ],
   "source": [
    "# Evaluate the model\n",
    "loss, accuracy = model.evaluate(X_val, y_val)\n",
    "print(f'Validation Loss: {loss}')\n",
    "print(f'Validation Accuracy: {accuracy}')"
   ]
  }
 ],
 "metadata": {
  "kaggle": {
   "accelerator": "none",
   "dataSources": [
    {
     "datasetId": 1176843,
     "sourceId": 1972672,
     "sourceType": "datasetVersion"
    }
   ],
   "dockerImageVersionId": 30746,
   "isGpuEnabled": false,
   "isInternetEnabled": true,
   "language": "python",
   "sourceType": "notebook"
  },
  "kernelspec": {
   "display_name": "Python 3",
   "language": "python",
   "name": "python3"
  },
  "language_info": {
   "codemirror_mode": {
    "name": "ipython",
    "version": 3
   },
   "file_extension": ".py",
   "mimetype": "text/x-python",
   "name": "python",
   "nbconvert_exporter": "python",
   "pygments_lexer": "ipython3",
   "version": "3.10.13"
  },
  "papermill": {
   "default_parameters": {},
   "duration": 243.337206,
   "end_time": "2024-07-30T17:33:41.250815",
   "environment_variables": {},
   "exception": null,
   "input_path": "__notebook__.ipynb",
   "output_path": "__notebook__.ipynb",
   "parameters": {},
   "start_time": "2024-07-30T17:29:37.913609",
   "version": "2.5.0"
  }
 },
 "nbformat": 4,
 "nbformat_minor": 5
}
