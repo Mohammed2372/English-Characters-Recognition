{
 "cells": [
  {
   "cell_type": "markdown",
   "id": "85dd8b79",
   "metadata": {
    "papermill": {
     "duration": 0.006539,
     "end_time": "2024-07-30T17:36:14.851339",
     "exception": false,
     "start_time": "2024-07-30T17:36:14.844800",
     "status": "completed"
    },
    "tags": []
   },
   "source": [
    "# import libraries"
   ]
  },
  {
   "cell_type": "code",
   "execution_count": 1,
   "id": "90c668f7",
   "metadata": {
    "execution": {
     "iopub.execute_input": "2024-07-30T17:36:14.865055Z",
     "iopub.status.busy": "2024-07-30T17:36:14.864644Z",
     "iopub.status.idle": "2024-07-30T17:36:30.521870Z",
     "shell.execute_reply": "2024-07-30T17:36:30.520809Z"
    },
    "papermill": {
     "duration": 15.667258,
     "end_time": "2024-07-30T17:36:30.524665",
     "exception": false,
     "start_time": "2024-07-30T17:36:14.857407",
     "status": "completed"
    },
    "tags": []
   },
   "outputs": [
    {
     "name": "stderr",
     "output_type": "stream",
     "text": [
      "2024-07-30 17:36:18.029633: E external/local_xla/xla/stream_executor/cuda/cuda_dnn.cc:9261] Unable to register cuDNN factory: Attempting to register factory for plugin cuDNN when one has already been registered\n",
      "2024-07-30 17:36:18.029761: E external/local_xla/xla/stream_executor/cuda/cuda_fft.cc:607] Unable to register cuFFT factory: Attempting to register factory for plugin cuFFT when one has already been registered\n",
      "2024-07-30 17:36:18.192253: E external/local_xla/xla/stream_executor/cuda/cuda_blas.cc:1515] Unable to register cuBLAS factory: Attempting to register factory for plugin cuBLAS when one has already been registered\n"
     ]
    }
   ],
   "source": [
    "import joblib\n",
    "import numpy as np\n",
    "import pandas as pd\n",
    "import tensorflow as tf\n",
    "from tensorflow.keras.optimizers import Adam\n",
    "from tensorflow.keras.models import Sequential\n",
    "from sklearn.preprocessing import LabelEncoder\n",
    "from sklearn.model_selection import train_test_split\n",
    "from tensorflow.keras.preprocessing.image import ImageDataGenerator\n",
    "from tensorflow.keras.preprocessing.image import load_img, img_to_array\n",
    "from tensorflow.keras.callbacks import EarlyStopping, ModelCheckpoint, ReduceLROnPlateau\n",
    "from tensorflow.keras.layers import Conv2D, MaxPooling2D, Flatten, Dense, Dropout, BatchNormalization"
   ]
  },
  {
   "cell_type": "markdown",
   "id": "49c5db85",
   "metadata": {
    "papermill": {
     "duration": 0.005783,
     "end_time": "2024-07-30T17:36:30.536539",
     "exception": false,
     "start_time": "2024-07-30T17:36:30.530756",
     "status": "completed"
    },
    "tags": []
   },
   "source": [
    "# Data Overview"
   ]
  },
  {
   "cell_type": "code",
   "execution_count": 2,
   "id": "c8c62b74",
   "metadata": {
    "execution": {
     "iopub.execute_input": "2024-07-30T17:36:30.551868Z",
     "iopub.status.busy": "2024-07-30T17:36:30.551064Z",
     "iopub.status.idle": "2024-07-30T17:36:30.594381Z",
     "shell.execute_reply": "2024-07-30T17:36:30.593314Z"
    },
    "papermill": {
     "duration": 0.053921,
     "end_time": "2024-07-30T17:36:30.597308",
     "exception": false,
     "start_time": "2024-07-30T17:36:30.543387",
     "status": "completed"
    },
    "tags": []
   },
   "outputs": [],
   "source": [
    "df = pd.read_csv('/kaggle/input/english-handwritten-characters-dataset/english.csv')"
   ]
  },
  {
   "cell_type": "code",
   "execution_count": 3,
   "id": "3ca8b5e8",
   "metadata": {
    "execution": {
     "iopub.execute_input": "2024-07-30T17:36:30.612619Z",
     "iopub.status.busy": "2024-07-30T17:36:30.611765Z",
     "iopub.status.idle": "2024-07-30T17:36:30.635429Z",
     "shell.execute_reply": "2024-07-30T17:36:30.634186Z"
    },
    "papermill": {
     "duration": 0.033997,
     "end_time": "2024-07-30T17:36:30.638042",
     "exception": false,
     "start_time": "2024-07-30T17:36:30.604045",
     "status": "completed"
    },
    "tags": []
   },
   "outputs": [
    {
     "data": {
      "text/html": [
       "<div>\n",
       "<style scoped>\n",
       "    .dataframe tbody tr th:only-of-type {\n",
       "        vertical-align: middle;\n",
       "    }\n",
       "\n",
       "    .dataframe tbody tr th {\n",
       "        vertical-align: top;\n",
       "    }\n",
       "\n",
       "    .dataframe thead th {\n",
       "        text-align: right;\n",
       "    }\n",
       "</style>\n",
       "<table border=\"1\" class=\"dataframe\">\n",
       "  <thead>\n",
       "    <tr style=\"text-align: right;\">\n",
       "      <th></th>\n",
       "      <th>image</th>\n",
       "      <th>label</th>\n",
       "    </tr>\n",
       "  </thead>\n",
       "  <tbody>\n",
       "    <tr>\n",
       "      <th>0</th>\n",
       "      <td>Img/img001-001.png</td>\n",
       "      <td>0</td>\n",
       "    </tr>\n",
       "    <tr>\n",
       "      <th>1</th>\n",
       "      <td>Img/img001-002.png</td>\n",
       "      <td>0</td>\n",
       "    </tr>\n",
       "    <tr>\n",
       "      <th>2</th>\n",
       "      <td>Img/img001-003.png</td>\n",
       "      <td>0</td>\n",
       "    </tr>\n",
       "    <tr>\n",
       "      <th>3</th>\n",
       "      <td>Img/img001-004.png</td>\n",
       "      <td>0</td>\n",
       "    </tr>\n",
       "    <tr>\n",
       "      <th>4</th>\n",
       "      <td>Img/img001-005.png</td>\n",
       "      <td>0</td>\n",
       "    </tr>\n",
       "    <tr>\n",
       "      <th>5</th>\n",
       "      <td>Img/img001-006.png</td>\n",
       "      <td>0</td>\n",
       "    </tr>\n",
       "    <tr>\n",
       "      <th>6</th>\n",
       "      <td>Img/img001-007.png</td>\n",
       "      <td>0</td>\n",
       "    </tr>\n",
       "    <tr>\n",
       "      <th>7</th>\n",
       "      <td>Img/img001-008.png</td>\n",
       "      <td>0</td>\n",
       "    </tr>\n",
       "    <tr>\n",
       "      <th>8</th>\n",
       "      <td>Img/img001-009.png</td>\n",
       "      <td>0</td>\n",
       "    </tr>\n",
       "    <tr>\n",
       "      <th>9</th>\n",
       "      <td>Img/img001-010.png</td>\n",
       "      <td>0</td>\n",
       "    </tr>\n",
       "  </tbody>\n",
       "</table>\n",
       "</div>"
      ],
      "text/plain": [
       "                image label\n",
       "0  Img/img001-001.png     0\n",
       "1  Img/img001-002.png     0\n",
       "2  Img/img001-003.png     0\n",
       "3  Img/img001-004.png     0\n",
       "4  Img/img001-005.png     0\n",
       "5  Img/img001-006.png     0\n",
       "6  Img/img001-007.png     0\n",
       "7  Img/img001-008.png     0\n",
       "8  Img/img001-009.png     0\n",
       "9  Img/img001-010.png     0"
      ]
     },
     "execution_count": 3,
     "metadata": {},
     "output_type": "execute_result"
    }
   ],
   "source": [
    "df.head(10)"
   ]
  },
  {
   "cell_type": "markdown",
   "id": "f25ed442",
   "metadata": {
    "papermill": {
     "duration": 0.006222,
     "end_time": "2024-07-30T17:36:30.650785",
     "exception": false,
     "start_time": "2024-07-30T17:36:30.644563",
     "status": "completed"
    },
    "tags": []
   },
   "source": [
    "it contain two columns:\n",
    "- image -> path for the images \n",
    "- label -> the digit or character of the images"
   ]
  },
  {
   "cell_type": "code",
   "execution_count": 4,
   "id": "d8f63573",
   "metadata": {
    "execution": {
     "iopub.execute_input": "2024-07-30T17:36:30.665008Z",
     "iopub.status.busy": "2024-07-30T17:36:30.664595Z",
     "iopub.status.idle": "2024-07-30T17:36:30.671676Z",
     "shell.execute_reply": "2024-07-30T17:36:30.670587Z"
    },
    "papermill": {
     "duration": 0.016949,
     "end_time": "2024-07-30T17:36:30.674016",
     "exception": false,
     "start_time": "2024-07-30T17:36:30.657067",
     "status": "completed"
    },
    "tags": []
   },
   "outputs": [
    {
     "data": {
      "text/plain": [
       "(3410, 2)"
      ]
     },
     "execution_count": 4,
     "metadata": {},
     "output_type": "execute_result"
    }
   ],
   "source": [
    "df.shape"
   ]
  },
  {
   "cell_type": "markdown",
   "id": "8aa964a6",
   "metadata": {
    "papermill": {
     "duration": 0.006096,
     "end_time": "2024-07-30T17:36:30.686746",
     "exception": false,
     "start_time": "2024-07-30T17:36:30.680650",
     "status": "completed"
    },
    "tags": []
   },
   "source": [
    "the dataset contains **``55 images``** for every character or digit"
   ]
  },
  {
   "cell_type": "markdown",
   "id": "36add371",
   "metadata": {
    "papermill": {
     "duration": 0.006233,
     "end_time": "2024-07-30T17:36:30.699202",
     "exception": false,
     "start_time": "2024-07-30T17:36:30.692969",
     "status": "completed"
    },
    "tags": []
   },
   "source": [
    "# load and preprocess images"
   ]
  },
  {
   "cell_type": "code",
   "execution_count": 5,
   "id": "5d2617ab",
   "metadata": {
    "execution": {
     "iopub.execute_input": "2024-07-30T17:36:30.714124Z",
     "iopub.status.busy": "2024-07-30T17:36:30.713740Z",
     "iopub.status.idle": "2024-07-30T17:36:30.718823Z",
     "shell.execute_reply": "2024-07-30T17:36:30.717871Z"
    },
    "papermill": {
     "duration": 0.014942,
     "end_time": "2024-07-30T17:36:30.721017",
     "exception": false,
     "start_time": "2024-07-30T17:36:30.706075",
     "status": "completed"
    },
    "tags": []
   },
   "outputs": [],
   "source": [
    "img_size = (32, 32)"
   ]
  },
  {
   "cell_type": "code",
   "execution_count": 6,
   "id": "e03ef774",
   "metadata": {
    "execution": {
     "iopub.execute_input": "2024-07-30T17:36:30.735639Z",
     "iopub.status.busy": "2024-07-30T17:36:30.735208Z",
     "iopub.status.idle": "2024-07-30T17:36:30.740554Z",
     "shell.execute_reply": "2024-07-30T17:36:30.739501Z"
    },
    "papermill": {
     "duration": 0.015248,
     "end_time": "2024-07-30T17:36:30.742837",
     "exception": false,
     "start_time": "2024-07-30T17:36:30.727589",
     "status": "completed"
    },
    "tags": []
   },
   "outputs": [],
   "source": [
    "def load_and_preprocess_image(image_path):\n",
    "    image_path = '/kaggle/input/english-handwritten-characters-dataset/' + image_path\n",
    "    img = load_img(image_path, target_size=img_size, color_mode='grayscale')\n",
    "    return img_to_array(img) / 255.0 "
   ]
  },
  {
   "cell_type": "code",
   "execution_count": 7,
   "id": "2c7f9dda",
   "metadata": {
    "execution": {
     "iopub.execute_input": "2024-07-30T17:36:30.757198Z",
     "iopub.status.busy": "2024-07-30T17:36:30.756800Z",
     "iopub.status.idle": "2024-07-30T17:36:30.762668Z",
     "shell.execute_reply": "2024-07-30T17:36:30.761459Z"
    },
    "papermill": {
     "duration": 0.015953,
     "end_time": "2024-07-30T17:36:30.765114",
     "exception": false,
     "start_time": "2024-07-30T17:36:30.749161",
     "status": "completed"
    },
    "tags": []
   },
   "outputs": [],
   "source": [
    "image_paths = df['image'].values\n",
    "labels = df['label'].values"
   ]
  },
  {
   "cell_type": "code",
   "execution_count": 8,
   "id": "66b45df6",
   "metadata": {
    "execution": {
     "iopub.execute_input": "2024-07-30T17:36:30.780495Z",
     "iopub.status.busy": "2024-07-30T17:36:30.780081Z",
     "iopub.status.idle": "2024-07-30T17:36:30.786513Z",
     "shell.execute_reply": "2024-07-30T17:36:30.785272Z"
    },
    "papermill": {
     "duration": 0.016605,
     "end_time": "2024-07-30T17:36:30.788882",
     "exception": false,
     "start_time": "2024-07-30T17:36:30.772277",
     "status": "completed"
    },
    "tags": []
   },
   "outputs": [],
   "source": [
    "# Encode character labels to integers\n",
    "label_encoder = LabelEncoder()\n",
    "labels_encoded = label_encoder.fit_transform(labels)"
   ]
  },
  {
   "cell_type": "markdown",
   "id": "a0437c91",
   "metadata": {
    "papermill": {
     "duration": 0.006219,
     "end_time": "2024-07-30T17:36:30.801538",
     "exception": false,
     "start_time": "2024-07-30T17:36:30.795319",
     "status": "completed"
    },
    "tags": []
   },
   "source": [
    "# preprocess images"
   ]
  },
  {
   "cell_type": "code",
   "execution_count": 9,
   "id": "78db1372",
   "metadata": {
    "execution": {
     "iopub.execute_input": "2024-07-30T17:36:30.816785Z",
     "iopub.status.busy": "2024-07-30T17:36:30.816338Z",
     "iopub.status.idle": "2024-07-30T17:38:32.524953Z",
     "shell.execute_reply": "2024-07-30T17:38:32.523663Z"
    },
    "papermill": {
     "duration": 121.719433,
     "end_time": "2024-07-30T17:38:32.527992",
     "exception": false,
     "start_time": "2024-07-30T17:36:30.808559",
     "status": "completed"
    },
    "tags": []
   },
   "outputs": [],
   "source": [
    "imgs = np.array([load_and_preprocess_image(img_path) for img_path in image_paths])"
   ]
  },
  {
   "cell_type": "code",
   "execution_count": 10,
   "id": "cfd913a1",
   "metadata": {
    "execution": {
     "iopub.execute_input": "2024-07-30T17:38:32.543233Z",
     "iopub.status.busy": "2024-07-30T17:38:32.542808Z",
     "iopub.status.idle": "2024-07-30T17:38:32.548979Z",
     "shell.execute_reply": "2024-07-30T17:38:32.547840Z"
    },
    "papermill": {
     "duration": 0.016548,
     "end_time": "2024-07-30T17:38:32.551333",
     "exception": false,
     "start_time": "2024-07-30T17:38:32.534785",
     "status": "completed"
    },
    "tags": []
   },
   "outputs": [],
   "source": [
    "num_label = len(np.unique(labels_encoded))\n",
    "one_hot_labels = np.eye(num_label)[labels_encoded]"
   ]
  },
  {
   "cell_type": "markdown",
   "id": "56914649",
   "metadata": {
    "papermill": {
     "duration": 0.006211,
     "end_time": "2024-07-30T17:38:32.564350",
     "exception": false,
     "start_time": "2024-07-30T17:38:32.558139",
     "status": "completed"
    },
    "tags": []
   },
   "source": [
    "# Split data"
   ]
  },
  {
   "cell_type": "code",
   "execution_count": 11,
   "id": "ed9a57e9",
   "metadata": {
    "execution": {
     "iopub.execute_input": "2024-07-30T17:38:32.579150Z",
     "iopub.status.busy": "2024-07-30T17:38:32.578724Z",
     "iopub.status.idle": "2024-07-30T17:38:32.594370Z",
     "shell.execute_reply": "2024-07-30T17:38:32.593198Z"
    },
    "papermill": {
     "duration": 0.026105,
     "end_time": "2024-07-30T17:38:32.597026",
     "exception": false,
     "start_time": "2024-07-30T17:38:32.570921",
     "status": "completed"
    },
    "tags": []
   },
   "outputs": [],
   "source": [
    "X_train, X_val, y_train, y_val = train_test_split(imgs, one_hot_labels, test_size=0.1, random_state=42)"
   ]
  },
  {
   "cell_type": "markdown",
   "id": "3e8f5639",
   "metadata": {
    "papermill": {
     "duration": 0.006315,
     "end_time": "2024-07-30T17:38:32.609827",
     "exception": false,
     "start_time": "2024-07-30T17:38:32.603512",
     "status": "completed"
    },
    "tags": []
   },
   "source": [
    "# Data Augmentation"
   ]
  },
  {
   "cell_type": "code",
   "execution_count": 12,
   "id": "49fcb213",
   "metadata": {
    "execution": {
     "iopub.execute_input": "2024-07-30T17:38:32.625516Z",
     "iopub.status.busy": "2024-07-30T17:38:32.624459Z",
     "iopub.status.idle": "2024-07-30T17:38:32.637717Z",
     "shell.execute_reply": "2024-07-30T17:38:32.636588Z"
    },
    "papermill": {
     "duration": 0.024081,
     "end_time": "2024-07-30T17:38:32.640334",
     "exception": false,
     "start_time": "2024-07-30T17:38:32.616253",
     "status": "completed"
    },
    "tags": []
   },
   "outputs": [],
   "source": [
    "datagen = ImageDataGenerator(\n",
    "    rotation_range=10,\n",
    "    width_shift_range=0.1,\n",
    "    height_shift_range=0.1,\n",
    "    zoom_range=0.1\n",
    ")\n",
    "datagen.fit(X_train)"
   ]
  },
  {
   "cell_type": "markdown",
   "id": "0ba81250",
   "metadata": {
    "papermill": {
     "duration": 0.005882,
     "end_time": "2024-07-30T17:38:32.652596",
     "exception": false,
     "start_time": "2024-07-30T17:38:32.646714",
     "status": "completed"
    },
    "tags": []
   },
   "source": [
    "# Modeling"
   ]
  },
  {
   "cell_type": "code",
   "execution_count": 13,
   "id": "8830e4db",
   "metadata": {
    "execution": {
     "iopub.execute_input": "2024-07-30T17:38:32.666479Z",
     "iopub.status.busy": "2024-07-30T17:38:32.666095Z",
     "iopub.status.idle": "2024-07-30T17:38:32.812828Z",
     "shell.execute_reply": "2024-07-30T17:38:32.811777Z"
    },
    "papermill": {
     "duration": 0.156355,
     "end_time": "2024-07-30T17:38:32.815099",
     "exception": false,
     "start_time": "2024-07-30T17:38:32.658744",
     "status": "completed"
    },
    "tags": []
   },
   "outputs": [
    {
     "name": "stderr",
     "output_type": "stream",
     "text": [
      "/opt/conda/lib/python3.10/site-packages/keras/src/layers/convolutional/base_conv.py:107: UserWarning: Do not pass an `input_shape`/`input_dim` argument to a layer. When using Sequential models, prefer using an `Input(shape)` object as the first layer in the model instead.\n",
      "  super().__init__(activity_regularizer=activity_regularizer, **kwargs)\n"
     ]
    }
   ],
   "source": [
    "# Define the model\n",
    "model = Sequential([\n",
    "    Conv2D(32, (3, 3), activation='relu', input_shape=(32, 32, 1)),\n",
    "    BatchNormalization(),\n",
    "    MaxPooling2D((2, 2)),\n",
    "    Conv2D(64, (3, 3), activation='relu'),\n",
    "    BatchNormalization(),\n",
    "    MaxPooling2D((2, 2)),\n",
    "    Conv2D(128, (3, 3), activation='relu'),\n",
    "    BatchNormalization(),\n",
    "    MaxPooling2D((2, 2)),\n",
    "    Flatten(),\n",
    "    Dense(256, activation='relu'),\n",
    "    Dropout(0.5),\n",
    "    Dense(num_label, activation='softmax')\n",
    "])"
   ]
  },
  {
   "cell_type": "code",
   "execution_count": 14,
   "id": "82dc7e8a",
   "metadata": {
    "execution": {
     "iopub.execute_input": "2024-07-30T17:38:32.830212Z",
     "iopub.status.busy": "2024-07-30T17:38:32.829514Z",
     "iopub.status.idle": "2024-07-30T17:38:32.846480Z",
     "shell.execute_reply": "2024-07-30T17:38:32.845076Z"
    },
    "papermill": {
     "duration": 0.027559,
     "end_time": "2024-07-30T17:38:32.849191",
     "exception": false,
     "start_time": "2024-07-30T17:38:32.821632",
     "status": "completed"
    },
    "tags": []
   },
   "outputs": [],
   "source": [
    "model.compile(optimizer=Adam(learning_rate=0.001), loss='categorical_crossentropy', metrics=['accuracy'])"
   ]
  },
  {
   "cell_type": "code",
   "execution_count": 15,
   "id": "0bf17c34",
   "metadata": {
    "execution": {
     "iopub.execute_input": "2024-07-30T17:38:32.864459Z",
     "iopub.status.busy": "2024-07-30T17:38:32.863464Z",
     "iopub.status.idle": "2024-07-30T17:38:32.869390Z",
     "shell.execute_reply": "2024-07-30T17:38:32.868224Z"
    },
    "papermill": {
     "duration": 0.01598,
     "end_time": "2024-07-30T17:38:32.871868",
     "exception": false,
     "start_time": "2024-07-30T17:38:32.855888",
     "status": "completed"
    },
    "tags": []
   },
   "outputs": [],
   "source": [
    "# Callbacks\n",
    "early_stopping = EarlyStopping(monitor='val_loss', patience=5, restore_best_weights=True)\n",
    "model_checkpoint = ModelCheckpoint('best_model.keras', save_best_only=True, monitor='val_loss')\n",
    "reduce_lr = ReduceLROnPlateau(monitor='val_loss', factor=0.2, patience=3, min_lr=0.00001)"
   ]
  },
  {
   "cell_type": "code",
   "execution_count": 16,
   "id": "d821be21",
   "metadata": {
    "execution": {
     "iopub.execute_input": "2024-07-30T17:38:32.887256Z",
     "iopub.status.busy": "2024-07-30T17:38:32.886875Z",
     "iopub.status.idle": "2024-07-30T17:39:48.666402Z",
     "shell.execute_reply": "2024-07-30T17:39:48.665293Z"
    },
    "papermill": {
     "duration": 75.790244,
     "end_time": "2024-07-30T17:39:48.668979",
     "exception": false,
     "start_time": "2024-07-30T17:38:32.878735",
     "status": "completed"
    },
    "tags": []
   },
   "outputs": [
    {
     "name": "stdout",
     "output_type": "stream",
     "text": [
      "Epoch 1/50\n"
     ]
    },
    {
     "name": "stderr",
     "output_type": "stream",
     "text": [
      "/opt/conda/lib/python3.10/site-packages/keras/src/trainers/data_adapters/py_dataset_adapter.py:121: UserWarning: Your `PyDataset` class should call `super().__init__(**kwargs)` in its constructor. `**kwargs` can include `workers`, `use_multiprocessing`, `max_queue_size`. Do not pass these arguments to `fit()`, as they will be ignored.\n",
      "  self._warn_if_super_not_called()\n"
     ]
    },
    {
     "name": "stdout",
     "output_type": "stream",
     "text": [
      "\u001b[1m96/96\u001b[0m \u001b[32m━━━━━━━━━━━━━━━━━━━━\u001b[0m\u001b[37m\u001b[0m \u001b[1m7s\u001b[0m 38ms/step - accuracy: 0.0317 - loss: 4.6159 - val_accuracy: 0.0235 - val_loss: 5.0525 - learning_rate: 0.0010\n",
      "Epoch 2/50\n",
      "\u001b[1m96/96\u001b[0m \u001b[32m━━━━━━━━━━━━━━━━━━━━\u001b[0m\u001b[37m\u001b[0m \u001b[1m3s\u001b[0m 34ms/step - accuracy: 0.1059 - loss: 3.6868 - val_accuracy: 0.0176 - val_loss: 7.1077 - learning_rate: 0.0010\n",
      "Epoch 3/50\n",
      "\u001b[1m96/96\u001b[0m \u001b[32m━━━━━━━━━━━━━━━━━━━━\u001b[0m\u001b[37m\u001b[0m \u001b[1m3s\u001b[0m 33ms/step - accuracy: 0.2080 - loss: 3.0707 - val_accuracy: 0.0176 - val_loss: 6.2236 - learning_rate: 0.0010\n",
      "Epoch 4/50\n",
      "\u001b[1m96/96\u001b[0m \u001b[32m━━━━━━━━━━━━━━━━━━━━\u001b[0m\u001b[37m\u001b[0m \u001b[1m3s\u001b[0m 35ms/step - accuracy: 0.2839 - loss: 2.5777 - val_accuracy: 0.1173 - val_loss: 3.4127 - learning_rate: 0.0010\n",
      "Epoch 5/50\n",
      "\u001b[1m96/96\u001b[0m \u001b[32m━━━━━━━━━━━━━━━━━━━━\u001b[0m\u001b[37m\u001b[0m \u001b[1m5s\u001b[0m 34ms/step - accuracy: 0.3640 - loss: 2.2160 - val_accuracy: 0.4575 - val_loss: 2.0225 - learning_rate: 0.0010\n",
      "Epoch 6/50\n",
      "\u001b[1m96/96\u001b[0m \u001b[32m━━━━━━━━━━━━━━━━━━━━\u001b[0m\u001b[37m\u001b[0m \u001b[1m3s\u001b[0m 34ms/step - accuracy: 0.4602 - loss: 1.9162 - val_accuracy: 0.5191 - val_loss: 1.6927 - learning_rate: 0.0010\n",
      "Epoch 7/50\n",
      "\u001b[1m96/96\u001b[0m \u001b[32m━━━━━━━━━━━━━━━━━━━━\u001b[0m\u001b[37m\u001b[0m \u001b[1m5s\u001b[0m 34ms/step - accuracy: 0.5065 - loss: 1.6769 - val_accuracy: 0.3842 - val_loss: 2.1891 - learning_rate: 0.0010\n",
      "Epoch 8/50\n",
      "\u001b[1m96/96\u001b[0m \u001b[32m━━━━━━━━━━━━━━━━━━━━\u001b[0m\u001b[37m\u001b[0m \u001b[1m3s\u001b[0m 34ms/step - accuracy: 0.5402 - loss: 1.4941 - val_accuracy: 0.6100 - val_loss: 1.1813 - learning_rate: 0.0010\n",
      "Epoch 9/50\n",
      "\u001b[1m96/96\u001b[0m \u001b[32m━━━━━━━━━━━━━━━━━━━━\u001b[0m\u001b[37m\u001b[0m \u001b[1m3s\u001b[0m 33ms/step - accuracy: 0.5965 - loss: 1.3693 - val_accuracy: 0.6012 - val_loss: 1.3991 - learning_rate: 0.0010\n",
      "Epoch 10/50\n",
      "\u001b[1m96/96\u001b[0m \u001b[32m━━━━━━━━━━━━━━━━━━━━\u001b[0m\u001b[37m\u001b[0m \u001b[1m3s\u001b[0m 33ms/step - accuracy: 0.6204 - loss: 1.2592 - val_accuracy: 0.4457 - val_loss: 2.0236 - learning_rate: 0.0010\n",
      "Epoch 11/50\n",
      "\u001b[1m96/96\u001b[0m \u001b[32m━━━━━━━━━━━━━━━━━━━━\u001b[0m\u001b[37m\u001b[0m \u001b[1m3s\u001b[0m 33ms/step - accuracy: 0.6338 - loss: 1.1662 - val_accuracy: 0.4575 - val_loss: 2.0834 - learning_rate: 0.0010\n",
      "Epoch 12/50\n",
      "\u001b[1m96/96\u001b[0m \u001b[32m━━━━━━━━━━━━━━━━━━━━\u001b[0m\u001b[37m\u001b[0m \u001b[1m3s\u001b[0m 34ms/step - accuracy: 0.6717 - loss: 1.0550 - val_accuracy: 0.7566 - val_loss: 0.7765 - learning_rate: 2.0000e-04\n",
      "Epoch 13/50\n",
      "\u001b[1m96/96\u001b[0m \u001b[32m━━━━━━━━━━━━━━━━━━━━\u001b[0m\u001b[37m\u001b[0m \u001b[1m4s\u001b[0m 38ms/step - accuracy: 0.6948 - loss: 0.9288 - val_accuracy: 0.7713 - val_loss: 0.6983 - learning_rate: 2.0000e-04\n",
      "Epoch 14/50\n",
      "\u001b[1m96/96\u001b[0m \u001b[32m━━━━━━━━━━━━━━━━━━━━\u001b[0m\u001b[37m\u001b[0m \u001b[1m3s\u001b[0m 34ms/step - accuracy: 0.7052 - loss: 0.9443 - val_accuracy: 0.7742 - val_loss: 0.6927 - learning_rate: 2.0000e-04\n",
      "Epoch 15/50\n",
      "\u001b[1m96/96\u001b[0m \u001b[32m━━━━━━━━━━━━━━━━━━━━\u001b[0m\u001b[37m\u001b[0m \u001b[1m3s\u001b[0m 34ms/step - accuracy: 0.7208 - loss: 0.8716 - val_accuracy: 0.7977 - val_loss: 0.5864 - learning_rate: 2.0000e-04\n",
      "Epoch 16/50\n",
      "\u001b[1m96/96\u001b[0m \u001b[32m━━━━━━━━━━━━━━━━━━━━\u001b[0m\u001b[37m\u001b[0m \u001b[1m3s\u001b[0m 34ms/step - accuracy: 0.7060 - loss: 0.8643 - val_accuracy: 0.7566 - val_loss: 0.7455 - learning_rate: 2.0000e-04\n",
      "Epoch 17/50\n",
      "\u001b[1m96/96\u001b[0m \u001b[32m━━━━━━━━━━━━━━━━━━━━\u001b[0m\u001b[37m\u001b[0m \u001b[1m3s\u001b[0m 33ms/step - accuracy: 0.7178 - loss: 0.8398 - val_accuracy: 0.8065 - val_loss: 0.6229 - learning_rate: 2.0000e-04\n",
      "Epoch 18/50\n",
      "\u001b[1m96/96\u001b[0m \u001b[32m━━━━━━━━━━━━━━━━━━━━\u001b[0m\u001b[37m\u001b[0m \u001b[1m3s\u001b[0m 33ms/step - accuracy: 0.7258 - loss: 0.8210 - val_accuracy: 0.7566 - val_loss: 0.7469 - learning_rate: 2.0000e-04\n",
      "Epoch 19/50\n",
      "\u001b[1m96/96\u001b[0m \u001b[32m━━━━━━━━━━━━━━━━━━━━\u001b[0m\u001b[37m\u001b[0m \u001b[1m3s\u001b[0m 34ms/step - accuracy: 0.7450 - loss: 0.7605 - val_accuracy: 0.8065 - val_loss: 0.6056 - learning_rate: 4.0000e-05\n",
      "Epoch 20/50\n",
      "\u001b[1m96/96\u001b[0m \u001b[32m━━━━━━━━━━━━━━━━━━━━\u001b[0m\u001b[37m\u001b[0m \u001b[1m5s\u001b[0m 33ms/step - accuracy: 0.7318 - loss: 0.8154 - val_accuracy: 0.8094 - val_loss: 0.5932 - learning_rate: 4.0000e-05\n"
     ]
    }
   ],
   "source": [
    "# Train the model with data augmentation\n",
    "history = model.fit(\n",
    "    datagen.flow(X_train, y_train, batch_size=32),\n",
    "    epochs=50,\n",
    "    validation_data=(X_val, y_val),\n",
    "    callbacks=[early_stopping, model_checkpoint, reduce_lr]\n",
    ")"
   ]
  },
  {
   "cell_type": "code",
   "execution_count": 17,
   "id": "374d007c",
   "metadata": {
    "execution": {
     "iopub.execute_input": "2024-07-30T17:39:48.813936Z",
     "iopub.status.busy": "2024-07-30T17:39:48.813179Z",
     "iopub.status.idle": "2024-07-30T17:39:48.987405Z",
     "shell.execute_reply": "2024-07-30T17:39:48.986288Z"
    },
    "papermill": {
     "duration": 0.249477,
     "end_time": "2024-07-30T17:39:48.989737",
     "exception": false,
     "start_time": "2024-07-30T17:39:48.740260",
     "status": "completed"
    },
    "tags": []
   },
   "outputs": [
    {
     "name": "stdout",
     "output_type": "stream",
     "text": [
      "\u001b[1m11/11\u001b[0m \u001b[32m━━━━━━━━━━━━━━━━━━━━\u001b[0m\u001b[37m\u001b[0m \u001b[1m0s\u001b[0m 8ms/step - accuracy: 0.7716 - loss: 0.6741\n",
      "Validation Loss: 0.5864249467849731\n",
      "Validation Accuracy: 0.7976539731025696\n"
     ]
    }
   ],
   "source": [
    "# Evaluate the model\n",
    "loss, accuracy = model.evaluate(X_val, y_val)\n",
    "print(f'Validation Loss: {loss}')\n",
    "print(f'Validation Accuracy: {accuracy}')"
   ]
  },
  {
   "cell_type": "code",
   "execution_count": 18,
   "id": "04b42018",
   "metadata": {
    "execution": {
     "iopub.execute_input": "2024-07-30T17:39:49.200033Z",
     "iopub.status.busy": "2024-07-30T17:39:49.199658Z",
     "iopub.status.idle": "2024-07-30T17:39:49.207869Z",
     "shell.execute_reply": "2024-07-30T17:39:49.206649Z"
    },
    "papermill": {
     "duration": 0.147646,
     "end_time": "2024-07-30T17:39:49.210453",
     "exception": false,
     "start_time": "2024-07-30T17:39:49.062807",
     "status": "completed"
    },
    "tags": []
   },
   "outputs": [
    {
     "data": {
      "text/plain": [
       "['label_encoder.pkl']"
      ]
     },
     "execution_count": 18,
     "metadata": {},
     "output_type": "execute_result"
    }
   ],
   "source": [
    "# Save the label encoder\n",
    "joblib.dump(label_encoder, 'label_encoder.pkl')"
   ]
  }
 ],
 "metadata": {
  "kaggle": {
   "accelerator": "none",
   "dataSources": [
    {
     "datasetId": 1176843,
     "sourceId": 1972672,
     "sourceType": "datasetVersion"
    }
   ],
   "dockerImageVersionId": 30746,
   "isGpuEnabled": false,
   "isInternetEnabled": true,
   "language": "python",
   "sourceType": "notebook"
  },
  "kernelspec": {
   "display_name": "Python 3",
   "language": "python",
   "name": "python3"
  },
  "language_info": {
   "codemirror_mode": {
    "name": "ipython",
    "version": 3
   },
   "file_extension": ".py",
   "mimetype": "text/x-python",
   "name": "python",
   "nbconvert_exporter": "python",
   "pygments_lexer": "ipython3",
   "version": "3.10.13"
  },
  "papermill": {
   "default_parameters": {},
   "duration": 218.940195,
   "end_time": "2024-07-30T17:39:51.011784",
   "environment_variables": {},
   "exception": null,
   "input_path": "__notebook__.ipynb",
   "output_path": "__notebook__.ipynb",
   "parameters": {},
   "start_time": "2024-07-30T17:36:12.071589",
   "version": "2.5.0"
  }
 },
 "nbformat": 4,
 "nbformat_minor": 5
}
